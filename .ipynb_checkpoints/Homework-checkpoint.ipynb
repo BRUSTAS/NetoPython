{
 "cells": [
  {
   "cell_type": "markdown",
   "id": "f267ea1c-1f1d-48b4-9965-5020e06aac08",
   "metadata": {},
   "source": [
    "## Домашнее задание №2"
   ]
  },
  {
   "cell_type": "code",
   "execution_count": 1,
   "id": "05d366d5-2996-4d27-a38e-b649b2b7a9e2",
   "metadata": {
    "tags": []
   },
   "outputs": [
    {
     "name": "stdout",
     "output_type": "stream",
     "text": [
      "2023 год является невисокосным\n"
     ]
    }
   ],
   "source": [
    "import calendar\n",
    "\n",
    "year = 2023\n",
    "\n",
    "if calendar.isleap(year):\n",
    "    print(f'{year} год является високосным')\n",
    "else:\n",
    "    print(f'{year} год является невисокосным')"
   ]
  },
  {
   "cell_type": "markdown",
   "id": "826c561d-def0-4c66-88bd-2aecfc826440",
   "metadata": {},
   "source": [
    "## Домашнее задание №3"
   ]
  },
  {
   "cell_type": "code",
   "execution_count": 39,
   "id": "0deaad73-7883-4155-a398-c3e6bd565b7b",
   "metadata": {
    "tags": []
   },
   "outputs": [
    {
     "name": "stdout",
     "output_type": "stream",
     "text": [
      "Билет с номером 123321 счастливый!!!\n"
     ]
    }
   ],
   "source": [
    "ticket = 123321\n",
    "\n",
    "if type(ticket) != int:\n",
    "    print(f'{ticket} - не является числом!')\n",
    "else:\n",
    "    myliststr = [num for num in str(ticket)]\n",
    "    if len(myliststr) != 6:\n",
    "        print(f'В номере {ticket} не шесть цифр!')\n",
    "    else:\n",
    "        mylistint = list(map(int, myliststr))\n",
    "        if sum(mylistint[0:3]) == sum(mylistint[3:7]):\n",
    "            print(f'Билет с номером {ticket} счастливый!!!')\n",
    "        else:\n",
    "            print(f'Билет с номером {ticket} несчастливый=(')"
   ]
  },
  {
   "cell_type": "code",
   "execution_count": null,
   "id": "660c7adc-84e7-43f4-a685-ee7b71caa0d9",
   "metadata": {},
   "outputs": [],
   "source": []
  }
 ],
 "metadata": {
  "kernelspec": {
   "display_name": "Python 3",
   "language": "python",
   "name": "python3"
  },
  "language_info": {
   "codemirror_mode": {
    "name": "ipython",
    "version": 3
   },
   "file_extension": ".py",
   "mimetype": "text/x-python",
   "name": "python",
   "nbconvert_exporter": "python",
   "pygments_lexer": "ipython3",
   "version": "3.7.2"
  }
 },
 "nbformat": 4,
 "nbformat_minor": 5
}
