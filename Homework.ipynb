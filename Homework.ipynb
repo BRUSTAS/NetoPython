{
 "cells": [
  {
   "cell_type": "markdown",
   "id": "f267ea1c-1f1d-48b4-9965-5020e06aac08",
   "metadata": {},
   "source": [
    "## Домашнее задание №2.1"
   ]
  },
  {
   "cell_type": "code",
   "execution_count": 1,
   "id": "05d366d5-2996-4d27-a38e-b649b2b7a9e2",
   "metadata": {
    "tags": []
   },
   "outputs": [
    {
     "name": "stdout",
     "output_type": "stream",
     "text": [
      "2023 год является невисокосным\n"
     ]
    }
   ],
   "source": [
    "import calendar\n",
    "\n",
    "year = 2023\n",
    "\n",
    "if calendar.isleap(year):\n",
    "    print(f'{year} год является високосным')\n",
    "else:\n",
    "    print(f'{year} год является невисокосным')"
   ]
  },
  {
   "cell_type": "markdown",
   "id": "826c561d-def0-4c66-88bd-2aecfc826440",
   "metadata": {},
   "source": [
    "## Домашнее задание №2.2"
   ]
  },
  {
   "cell_type": "code",
   "execution_count": 39,
   "id": "0deaad73-7883-4155-a398-c3e6bd565b7b",
   "metadata": {
    "tags": []
   },
   "outputs": [
    {
     "name": "stdout",
     "output_type": "stream",
     "text": [
      "Билет с номером 123321 счастливый!!!\n"
     ]
    }
   ],
   "source": [
    "ticket = 123321\n",
    "\n",
    "if type(ticket) != int:\n",
    "    print(f'{ticket} - не является числом!')\n",
    "else:\n",
    "    myliststr = [num for num in str(ticket)]\n",
    "    if len(myliststr) != 6:\n",
    "        print(f'В номере {ticket} не шесть цифр!')\n",
    "    else:\n",
    "        mylistint = list(map(int, myliststr))\n",
    "        if sum(mylistint[0:3]) == sum(mylistint[3:7]):\n",
    "            print(f'Билет с номером {ticket} счастливый!!!')\n",
    "        else:\n",
    "            print(f'Билет с номером {ticket} несчастливый=(')"
   ]
  },
  {
   "cell_type": "markdown",
   "id": "240c9a38-b699-4753-aff7-2d8711d9bde0",
   "metadata": {
    "tags": []
   },
   "source": [
    "## Домашнее задание №3.1"
   ]
  },
  {
   "cell_type": "code",
   "execution_count": 77,
   "id": "c7ba509b-c86e-4c91-806a-aeb1b3d4ad37",
   "metadata": {
    "tags": []
   },
   "outputs": [
    {
     "name": "stdout",
     "output_type": "stream",
     "text": [
      "45\n"
     ]
    }
   ],
   "source": [
    "MyString = '12345678'\n",
    "\n",
    "MyList = [Letter for Letter in MyString]\n",
    "ListLen = len(MyList)\n",
    "if ListLen % 2 == 0:\n",
    "    print(f'{MyList[ListLen//2-1]}{MyList[ListLen//2]}')\n",
    "else:\n",
    "    print(f'{MyList[ListLen//2]}')"
   ]
  },
  {
   "cell_type": "markdown",
   "id": "b66dff79-e997-466d-bac7-452cf60689b5",
   "metadata": {},
   "source": [
    "## Домашнее задание №3.2"
   ]
  },
  {
   "cell_type": "code",
   "execution_count": 108,
   "id": "e5296131-44ff-4754-bcbc-72ce305fa1c2",
   "metadata": {
    "tags": []
   },
   "outputs": [
    {
     "name": "stdout",
     "output_type": "stream",
     "text": [
      "Alex и Emma\n",
      "Arthur и Kate\n",
      "John и Kira\n",
      "Peter и Liza\n",
      "Richard и Trisha\n"
     ]
    }
   ],
   "source": [
    "boys = ['Peter', 'Alex', 'John', 'Arthur', 'Richard']\n",
    "girls = ['Kate', 'Liza', 'Kira', 'Emma', 'Trisha']\n",
    "\n",
    "if len(boys) == len(girls):\n",
    "    boys.sort()\n",
    "    girls.sort()\n",
    "    pairs = list(zip(boys, girls))\n",
    "    for pair in pairs:\n",
    "        print(f'{pair[0]} и {pair[1]}')\n",
    "else:\n",
    "    print(f'Внимание, кто-то может остаться без пары!')"
   ]
  }
 ],
 "metadata": {
  "kernelspec": {
   "display_name": "Python 3",
   "language": "python",
   "name": "python3"
  },
  "language_info": {
   "codemirror_mode": {
    "name": "ipython",
    "version": 3
   },
   "file_extension": ".py",
   "mimetype": "text/x-python",
   "name": "python",
   "nbconvert_exporter": "python",
   "pygments_lexer": "ipython3",
   "version": "3.7.2"
  }
 },
 "nbformat": 4,
 "nbformat_minor": 5
}
