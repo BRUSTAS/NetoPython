{
 "cells": [
  {
   "cell_type": "code",
   "execution_count": 1,
   "id": "05d366d5-2996-4d27-a38e-b649b2b7a9e2",
   "metadata": {
    "tags": []
   },
   "outputs": [
    {
     "name": "stdout",
     "output_type": "stream",
     "text": [
      "2023 год является невисокосным\n"
     ]
    }
   ],
   "source": [
    "import calendar\n",
    "\n",
    "year = 2023\n",
    "\n",
    "if calendar.isleap(year):\n",
    "    print(f'{year} год является високосным')\n",
    "else:\n",
    "    print(f'{year} год является невисокосным')"
   ]
  },
  {
   "cell_type": "code",
   "execution_count": null,
   "id": "0de1dee6-d89f-42b0-bb28-b5edd9cb1cf4",
   "metadata": {},
   "outputs": [],
   "source": []
  }
 ],
 "metadata": {
  "kernelspec": {
   "display_name": "Python 3",
   "language": "python",
   "name": "python3"
  },
  "language_info": {
   "codemirror_mode": {
    "name": "ipython",
    "version": 3
   },
   "file_extension": ".py",
   "mimetype": "text/x-python",
   "name": "python",
   "nbconvert_exporter": "python",
   "pygments_lexer": "ipython3",
   "version": "3.7.2"
  }
 },
 "nbformat": 4,
 "nbformat_minor": 5
}
